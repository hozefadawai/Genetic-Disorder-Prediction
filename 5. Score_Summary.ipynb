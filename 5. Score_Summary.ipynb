{
  "nbformat": 4,
  "nbformat_minor": 0,
  "metadata": {
    "colab": {
      "provenance": []
    },
    "kernelspec": {
      "name": "python3",
      "display_name": "Python 3"
    },
    "language_info": {
      "name": "python"
    }
  },
  "cells": [
    {
      "cell_type": "markdown",
      "source": [
        "# SCORE SUMMARY"
      ],
      "metadata": {
        "id": "qdqbP3K5tsV8"
      }
    },
    {
      "cell_type": "code",
      "source": [
        "from prettytable import PrettyTable\n",
        "\n",
        "x = PrettyTable()\n",
        "x.field_names = ['Model', 'Train F1 Macro', 'Val F1 Macro']\n",
        "\n",
        "# now we will add row by row to the prettytable\n",
        "# each comma seprates column datapoint\n",
        "# we have given four input and each column will have its respective value\n",
        "x.add_row(['Decision Tree', np.round(train_DT_target1, 4), np.round(val_DT_target1, 4)])\n",
        "x.add_row(['Random Forest',np.round(train_RFC_target1, 4), np.round(val_RFC_target1, 4)])\n",
        "x.add_row(['LGBM', np.round(train_LGBM_target1, 4), np.round(val_LGBM_target1, 4)])\n",
        "x.add_row(['AutoML', np.round(train_AutoML_target1, 4), np.round(val_AutoML_target1, 4)])\n",
        "\n",
        "print('SCORE SUMMARY WITH TARGET 1: \\n')\n",
        "print(x)"
      ],
      "metadata": {
        "id": "u278wx28tAE5",
        "outputId": "6f72c354-90b4-4fd4-9b63-65a794d885a5",
        "colab": {
          "base_uri": "https://localhost:8080/"
        }
      },
      "execution_count": null,
      "outputs": [
        {
          "output_type": "stream",
          "name": "stdout",
          "text": [
            "SCORE SUMMARY WITH TARGET 1: \n",
            "\n",
            "+---------------+----------------+--------------+\n",
            "|     Model     | Train F1 Macro | Val F1 Macro |\n",
            "+---------------+----------------+--------------+\n",
            "| Decision Tree |     0.8853     |    0.6904    |\n",
            "| Random Forest |     0.7555     |    0.6468    |\n",
            "|      LGBM     |     0.8655     |    0.697     |\n",
            "|     AutoML    |     0.9804     |    0.6546    |\n",
            "+---------------+----------------+--------------+\n"
          ]
        }
      ]
    },
    {
      "cell_type": "code",
      "source": [
        "x = PrettyTable()\n",
        "x.field_names = ['Model', 'Train F1 Macro', 'Val F1 Macro']\n",
        "\n",
        "# now we will add row by row to the prettytable\n",
        "# each comma seprates column datapoint\n",
        "# we have given four input and each column will have its respective value\n",
        "x.add_row(['Decision Tree', np.round(train_DT_target2, 4), np.round(val_DT_target2, 4)])\n",
        "x.add_row(['Random Forest',np.round(train_RFC_target2, 4), np.round(val_RFC_target2, 4)])\n",
        "x.add_row(['LGBM', np.round(train_LGBM_target2, 4), np.round(val_LGBM_target2, 4)])\n",
        "x.add_row(['AutoML', np.round(train_AutoML_target2, 4), np.round(val_AutoML_target2, 4)])\n",
        "\n",
        "print('SCORE SUMMARY WITH TARGET 2: \\n')\n",
        "print(x)"
      ],
      "metadata": {
        "id": "QdUf0lwRtjuY",
        "colab": {
          "base_uri": "https://localhost:8080/"
        },
        "outputId": "64813457-ce38-4e24-ce2f-97a23012bc87"
      },
      "execution_count": null,
      "outputs": [
        {
          "output_type": "stream",
          "name": "stdout",
          "text": [
            "SCORE SUMMARY WITH TARGET 2: \n",
            "\n",
            "+---------------+----------------+--------------+\n",
            "|     Model     | Train F1 Macro | Val F1 Macro |\n",
            "+---------------+----------------+--------------+\n",
            "| Decision Tree |     0.8524     |    0.123     |\n",
            "| Random Forest |     0.9715     |    0.1368    |\n",
            "|      LGBM     |     0.9304     |    0.1411    |\n",
            "|     AutoML    |      1.0       |    0.1165    |\n",
            "+---------------+----------------+--------------+\n"
          ]
        }
      ]
    }
  ]
}